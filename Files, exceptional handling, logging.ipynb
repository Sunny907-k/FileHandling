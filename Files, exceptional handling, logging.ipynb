{
  "nbformat": 4,
  "nbformat_minor": 0,
  "metadata": {
    "colab": {
      "provenance": []
    },
    "kernelspec": {
      "name": "python3",
      "display_name": "Python 3"
    },
    "language_info": {
      "name": "python"
    }
  },
  "cells": [
    {
      "cell_type": "markdown",
      "source": [
        "1. What is the difference between interpreted and compiled languages?\n",
        "\n",
        "Ans - In compiled language, code written in a compiled language is translated into machine code (binary) by a compiler before it’s run.\n",
        "\n",
        "In interpreted language, code is executed line-by-line by an interpreter at runtime, without prior compilation into machine code."
      ],
      "metadata": {
        "id": "0hiyZ6N_LWof"
      }
    },
    {
      "cell_type": "markdown",
      "source": [
        "2. What is exception handling in Python?\n",
        "\n",
        "Ans - Exception handling in Python is a way to manage errors that occur during program execution — gracefully, without crashing the entire program."
      ],
      "metadata": {
        "id": "4CHr-er_MCtM"
      }
    },
    {
      "cell_type": "markdown",
      "source": [
        "3. What is the purpose of the finally block in exception handling?\n",
        "\n",
        "Ans - The finally block in Python is used to define cleanup actions that must happen, regardless of whether an exception was raised or not."
      ],
      "metadata": {
        "id": "P6CLmq59MWoo"
      }
    },
    {
      "cell_type": "markdown",
      "source": [
        "4. What is logging in Python?\n",
        "\n",
        "Ans - Logging in Python is the process of recording events, errors, or important information from your program during execution — mainly for debugging, monitoring, and troubleshooting."
      ],
      "metadata": {
        "id": "JKNE7Wr4Mead"
      }
    },
    {
      "cell_type": "markdown",
      "source": [
        "5. What is the significance of the __del__ method in Python?\n",
        "\n",
        "Ans - The __del__ method in Python is a special method known as a destructor. It is called automatically when an object is about to be destroyed — typically when there are no more references to it."
      ],
      "metadata": {
        "id": "bxrVzeeUMo0r"
      }
    },
    {
      "cell_type": "markdown",
      "source": [
        "6. What is the difference between import and from ... import in Python?\n",
        "\n",
        "Ans - Both import and from ... import are used to access code from other modules, but they differ in how you access and what you bring into your current namespace."
      ],
      "metadata": {
        "id": "CTpswUwyM3xt"
      }
    },
    {
      "cell_type": "markdown",
      "source": [
        "7. How can you handle multiple exceptions in Python?\n",
        "\n",
        "Ans - In Python, you can handle multiple exceptions using one or more except blocks to catch different error types and respond appropriately."
      ],
      "metadata": {
        "id": "GsoQaEVeNDM2"
      }
    },
    {
      "cell_type": "markdown",
      "source": [
        "8. What is the purpose of the with statement when handling files in Python?\n",
        "\n",
        "Ans - The with statement in Python is used to manage resources, especially file operations, in a safe and concise way.\n",
        "\n",
        "When used with files, it ensures the file is automatically closed, even if an error occurs during reading or writing."
      ],
      "metadata": {
        "id": "v5T_EkBZNM_8"
      }
    },
    {
      "cell_type": "markdown",
      "source": [
        "9. What is the difference between multithreading and multiprocessing?\n",
        "\n",
        "Ans - -- Multithreading uses multiple threads (lightweight subprocesses) within a single process.\n",
        "\n",
        "--- Multiprocessing uses multiple processes, each with its own memory space and Python interpreter."
      ],
      "metadata": {
        "id": "T9ONJ_iANWK8"
      }
    },
    {
      "cell_type": "markdown",
      "source": [
        "10. What are the advantages of using logging in a program?\n",
        "\n",
        "Ans - Using the logging module instead of print() offers powerful, flexible, and professional ways to monitor and debug applications — especially in real-world or production environments."
      ],
      "metadata": {
        "id": "HhHnUEMQNjCN"
      }
    },
    {
      "cell_type": "markdown",
      "source": [
        "11. What is memory management in Python?\n",
        "\n",
        "Ans - Memory management in Python refers to the process by which Python allocates, uses, and frees memory while your program runs, ensuring efficient use of system resources."
      ],
      "metadata": {
        "id": "Zr6l9ju8NxGR"
      }
    },
    {
      "cell_type": "markdown",
      "source": [
        "12. What are the basic steps involved in exception handling in Python?\n",
        "\n",
        "Ans - Below is the basic steps:\n",
        "-- try\n",
        "-- except\n",
        "-- else\n",
        "-- finally"
      ],
      "metadata": {
        "id": "Xhxnahl_N5Ss"
      }
    },
    {
      "cell_type": "markdown",
      "source": [
        "13. Why is memory management important in Python?\n",
        "\n",
        "Ans - Memory management is crucial because it directly affects the performance, stability, and reliability of Python programs."
      ],
      "metadata": {
        "id": "hYU5Ea3FOIM6"
      }
    },
    {
      "cell_type": "markdown",
      "source": [
        "14. What is the role of try and except in exception handling?\n",
        "\n",
        "Ans - If no exception occurs then Python excecute the code under try otherwise, except catches the exception and prints a friendly message instead of crashing."
      ],
      "metadata": {
        "id": "OMF7Iz7ROVun"
      }
    },
    {
      "cell_type": "markdown",
      "source": [
        "15. How does Python's garbage collection system work?\n",
        "\n",
        "Ans - Python automatically manages memory by cleaning up objects that are no longer needed, freeing you from manual memory management."
      ],
      "metadata": {
        "id": "bBwjcDEPO0Q1"
      }
    },
    {
      "cell_type": "markdown",
      "source": [
        "16. What is the purpose of the else block in exception handling?\n",
        "\n",
        "Ans - - If no exceptions occur, the else block runs and prints the result.\n",
        "\n",
        "-- If an exception occurs, the else block is skipped."
      ],
      "metadata": {
        "id": "-Vqy7_vfO95B"
      }
    },
    {
      "cell_type": "markdown",
      "source": [
        "17. What are the common logging levels in Python?\n",
        "\n",
        "Ans - Below are the common logging levels:\n",
        "\n",
        "-- Debug\n",
        "-- Info\n",
        "-- Warning\n",
        "-- Error\n",
        "-- Critical"
      ],
      "metadata": {
        "id": "qoAeliqoPiXl"
      }
    },
    {
      "cell_type": "markdown",
      "source": [
        "18. What is the difference between os.fork() and multiprocessing in Python?\n",
        "\n",
        "Ans - -- Use os.fork() if you need low-level Unix process control and are okay with platform limitations.\n",
        "\n",
        " -- Use multiprocessing for portable, Pythonic, and easier multiprocessing, especially if you want cross-platform support or need to communicate between processes."
      ],
      "metadata": {
        "id": "E8TQnXLDP-me"
      }
    },
    {
      "cell_type": "markdown",
      "source": [
        "19. What is the importance of closing a file in Python?\n",
        "\n",
        "Ans - Closing a file in Python is important to ensure that all data is properly saved (flushed), system resources are freed, and to prevent data corruption or access issues."
      ],
      "metadata": {
        "id": "aO0XLWftQLPX"
      }
    },
    {
      "cell_type": "markdown",
      "source": [
        "20. What is the difference between file.read() and file.readline() in Python?\n",
        "\n",
        "Ans - file.read() reads the entire contents of a file (or a specified number of bytes), while file.readline() reads only the next single line from the file."
      ],
      "metadata": {
        "id": "p1GRhJLuQa-n"
      }
    },
    {
      "cell_type": "markdown",
      "source": [
        "21.  What is the logging module in Python used for?\n",
        "\n",
        "Ans - The logging module in Python is used for tracking events and recording messages from a program, helping with debugging, monitoring, and auditing by providing a flexible way to log information at different severity levels."
      ],
      "metadata": {
        "id": "MTvgSUw6Qj4k"
      }
    },
    {
      "cell_type": "markdown",
      "source": [
        "22. What is the os module in Python used for in file handling?\n",
        "\n",
        "Ans - The os module in Python is used in file handling to interact with the operating system, providing functions to create, delete, rename, and manipulate files and directories, as well as to retrieve file information and manage file paths."
      ],
      "metadata": {
        "id": "JzGWT0pmQt8S"
      }
    },
    {
      "cell_type": "markdown",
      "source": [
        "23. What are the challenges associated with memory management in Python?\n",
        "\n",
        "Ans - Challenges in Python memory management include handling circular references, preventing memory leaks, managing fragmentation, dealing with large object overhead, and the unpredictability of garbage collection timing."
      ],
      "metadata": {
        "id": "Mh_5B1MOQ13L"
      }
    },
    {
      "cell_type": "markdown",
      "source": [
        "24.  How do you raise an exception manually in Python?\n",
        "\n",
        "Ans - You manually raise an exception in Python using the raise statement followed by an exception instance or class, like this: raise ValueError(\"An error occurred\")."
      ],
      "metadata": {
        "id": "fv8RkevBQ-Da"
      }
    },
    {
      "cell_type": "markdown",
      "source": [
        "25. Why is it important to use multithreading in certain applications?\n",
        "\n",
        "Ans - Multithreading is important because it allows a program to perform multiple tasks concurrently, improving responsiveness and efficiency—especially in applications involving I/O operations, user interfaces, or tasks that can run in parallel."
      ],
      "metadata": {
        "id": "kD7dSUsVREui"
      }
    },
    {
      "cell_type": "markdown",
      "source": [
        "# Practical Questions"
      ],
      "metadata": {
        "id": "cPpc7PmPRLTg"
      }
    },
    {
      "cell_type": "code",
      "source": [
        "# 1. How can you open a file for writing in Python and write a string to it?\n",
        "\n",
        "with open('file.txt', 'w') as file:\n",
        "    file.write(\"Hello World!\\n\")\n",
        "    file.write(\"Welcome\")\n"
      ],
      "metadata": {
        "id": "jEUoLDE4RPxP"
      },
      "execution_count": 2,
      "outputs": []
    },
    {
      "cell_type": "code",
      "source": [
        "# 2. Write a Python program to read the contents of a file and print each line.\n",
        "\n",
        "with open('file.txt', 'r') as file:\n",
        "    data = file.read()\n",
        "print(data)\n"
      ],
      "metadata": {
        "colab": {
          "base_uri": "https://localhost:8080/"
        },
        "id": "bkaGhjPETQF8",
        "outputId": "00ff555a-baf8-445d-e881-3075f8f6a7a4"
      },
      "execution_count": 3,
      "outputs": [
        {
          "output_type": "stream",
          "name": "stdout",
          "text": [
            "Hello World!\n",
            "Welcome\n"
          ]
        }
      ]
    },
    {
      "cell_type": "code",
      "source": [
        "# 3. How would you handle a case where the file doesn't exist while trying to open it for reading?\n",
        "\n",
        "try:\n",
        "  with open('file1.txt', 'r') as file:\n",
        "    data = file1.read()\n",
        "  print(data)\n",
        "except FileNotFoundError as e:\n",
        "  print(\"The file not exist\", e)\n"
      ],
      "metadata": {
        "colab": {
          "base_uri": "https://localhost:8080/"
        },
        "id": "5GZb0Si-Uf2C",
        "outputId": "508233d4-7f02-457f-e682-19252f6db066"
      },
      "execution_count": 4,
      "outputs": [
        {
          "output_type": "stream",
          "name": "stdout",
          "text": [
            "The file not exist [Errno 2] No such file or directory: 'file1.txt'\n"
          ]
        }
      ]
    },
    {
      "cell_type": "code",
      "source": [
        "# 4. Write a Python script that reads from one file and writes its content to another file?\n",
        "\n",
        "with open('file.txt', 'r') as file:\n",
        "  data = file.read()\n",
        "\n",
        "with open(\"anot_file.txt\", \"w\") as file2:\n",
        "  file2.write(data)\n",
        "\n",
        "with open(\"anot_file.txt\", \"r\") as file2:\n",
        "  data = file2.read()\n",
        "print(data)\n",
        ""
      ],
      "metadata": {
        "colab": {
          "base_uri": "https://localhost:8080/"
        },
        "id": "VqimZ_THWIYU",
        "outputId": "26e34797-67ab-4013-f7b5-a93fb103d18f"
      },
      "execution_count": 12,
      "outputs": [
        {
          "output_type": "stream",
          "name": "stdout",
          "text": [
            "Hello World!\n",
            "Welcome\n"
          ]
        }
      ]
    },
    {
      "cell_type": "code",
      "source": [
        "# 5. How would you catch and handle division by zero error in Python?\n",
        "\n",
        "try:\n",
        "  print(2/0)\n",
        "except ZeroDivisionError as e:\n",
        "  print(\"We can't divide by Zero\", e)"
      ],
      "metadata": {
        "colab": {
          "base_uri": "https://localhost:8080/"
        },
        "id": "k97OE3ctzmOP",
        "outputId": "52ec0406-0196-46d1-8516-f86fdbf3ce59"
      },
      "execution_count": 13,
      "outputs": [
        {
          "output_type": "stream",
          "name": "stdout",
          "text": [
            "We can't divide by Zero division by zero\n"
          ]
        }
      ]
    },
    {
      "cell_type": "code",
      "source": [
        "# 6. Write a Python program that logs an error message to a log file when a division by zero exception occurs.\n",
        "\n",
        "import logging\n",
        "\n",
        "logging.basicConfig(filename = 'test.log', level = logging.ERROR)\n",
        "\n",
        "try:\n",
        "    10/0\n",
        "except ZeroDivisionError as e:\n",
        "    logging.error(\"Division by zero error: %s\", e)\n",
        "    print(\"An error occurred. Check error.log for details.\")\n"
      ],
      "metadata": {
        "colab": {
          "base_uri": "https://localhost:8080/"
        },
        "id": "VxnJgcrqz66j",
        "outputId": "173cfe71-44ce-4d4a-b2c4-35d9a739602b"
      },
      "execution_count": 18,
      "outputs": [
        {
          "output_type": "stream",
          "name": "stderr",
          "text": [
            "ERROR:root:Division by zero error: division by zero\n"
          ]
        },
        {
          "output_type": "stream",
          "name": "stdout",
          "text": [
            "An error occurred. Check error.log for details.\n"
          ]
        }
      ]
    },
    {
      "cell_type": "code",
      "source": [
        "#7. How do you log information at different levels (INFO, ERROR, WARNING) in Python using the logging module?\n",
        "\n",
        "logging.basicConfig(filename ='test.log', level = logging.DEBUG)\n",
        "\n",
        "logging.debug(\"This is a DEBUG message.\")\n",
        "logging.info(\"This is an INFO message.\")\n",
        "logging.warning(\"This is a WARNING message.\")\n",
        "logging.error(\"This is an ERROR message.\")\n",
        "logging.critical(\"This is a CRITICAL message.\")"
      ],
      "metadata": {
        "colab": {
          "base_uri": "https://localhost:8080/"
        },
        "id": "XfgssKAp0vsw",
        "outputId": "80026ab3-40da-486d-a5b0-1c42877016f4"
      },
      "execution_count": 19,
      "outputs": [
        {
          "output_type": "stream",
          "name": "stderr",
          "text": [
            "WARNING:root:This is a WARNING message.\n",
            "ERROR:root:This is an ERROR message.\n",
            "CRITICAL:root:This is a CRITICAL message.\n"
          ]
        }
      ]
    },
    {
      "cell_type": "code",
      "source": [
        "# 8. Write a program to handle a file opening error using exception handling?\n",
        "\n",
        "try:\n",
        "  with open(\"test4.txt\") as f:\n",
        "    f.read()\n",
        "except FileNotFoundError as e:\n",
        "  logging.error(\"File is not availabal\", e)"
      ],
      "metadata": {
        "colab": {
          "base_uri": "https://localhost:8080/"
        },
        "id": "GzyoOO1v1Mxa",
        "outputId": "6b0d08f6-c6b8-46f7-f8f0-890be0a617b5"
      },
      "execution_count": 22,
      "outputs": [
        {
          "output_type": "stream",
          "name": "stderr",
          "text": [
            "--- Logging error ---\n",
            "Traceback (most recent call last):\n",
            "  File \"/tmp/ipython-input-3436117868.py\", line 4, in <cell line: 0>\n",
            "    with open(\"test4.txt\") as f:\n",
            "         ^^^^^^^^^^^^^^^^^\n",
            "FileNotFoundError: [Errno 2] No such file or directory: 'test4.txt'\n",
            "\n",
            "During handling of the above exception, another exception occurred:\n",
            "\n",
            "Traceback (most recent call last):\n",
            "  File \"/usr/lib/python3.12/logging/__init__.py\", line 1160, in emit\n",
            "    msg = self.format(record)\n",
            "          ^^^^^^^^^^^^^^^^^^^\n",
            "  File \"/usr/lib/python3.12/logging/__init__.py\", line 999, in format\n",
            "    return fmt.format(record)\n",
            "           ^^^^^^^^^^^^^^^^^^\n",
            "  File \"/usr/lib/python3.12/logging/__init__.py\", line 703, in format\n",
            "    record.message = record.getMessage()\n",
            "                     ^^^^^^^^^^^^^^^^^^^\n",
            "  File \"/usr/lib/python3.12/logging/__init__.py\", line 392, in getMessage\n",
            "    msg = msg % self.args\n",
            "          ~~~~^~~~~~~~~~~\n",
            "TypeError: not all arguments converted during string formatting\n",
            "Call stack:\n",
            "  File \"<frozen runpy>\", line 198, in _run_module_as_main\n",
            "  File \"<frozen runpy>\", line 88, in _run_code\n",
            "  File \"/usr/local/lib/python3.12/dist-packages/colab_kernel_launcher.py\", line 37, in <module>\n",
            "    ColabKernelApp.launch_instance()\n",
            "  File \"/usr/local/lib/python3.12/dist-packages/traitlets/config/application.py\", line 992, in launch_instance\n",
            "    app.start()\n",
            "  File \"/usr/local/lib/python3.12/dist-packages/ipykernel/kernelapp.py\", line 712, in start\n",
            "    self.io_loop.start()\n",
            "  File \"/usr/local/lib/python3.12/dist-packages/tornado/platform/asyncio.py\", line 205, in start\n",
            "    self.asyncio_loop.run_forever()\n",
            "  File \"/usr/lib/python3.12/asyncio/base_events.py\", line 645, in run_forever\n",
            "    self._run_once()\n",
            "  File \"/usr/lib/python3.12/asyncio/base_events.py\", line 1999, in _run_once\n",
            "    handle._run()\n",
            "  File \"/usr/lib/python3.12/asyncio/events.py\", line 88, in _run\n",
            "    self._context.run(self._callback, *self._args)\n",
            "  File \"/usr/local/lib/python3.12/dist-packages/ipykernel/kernelbase.py\", line 510, in dispatch_queue\n",
            "    await self.process_one()\n",
            "  File \"/usr/local/lib/python3.12/dist-packages/ipykernel/kernelbase.py\", line 499, in process_one\n",
            "    await dispatch(*args)\n",
            "  File \"/usr/local/lib/python3.12/dist-packages/ipykernel/kernelbase.py\", line 406, in dispatch_shell\n",
            "    await result\n",
            "  File \"/usr/local/lib/python3.12/dist-packages/ipykernel/kernelbase.py\", line 730, in execute_request\n",
            "    reply_content = await reply_content\n",
            "  File \"/usr/local/lib/python3.12/dist-packages/ipykernel/ipkernel.py\", line 383, in do_execute\n",
            "    res = shell.run_cell(\n",
            "  File \"/usr/local/lib/python3.12/dist-packages/ipykernel/zmqshell.py\", line 528, in run_cell\n",
            "    return super().run_cell(*args, **kwargs)\n",
            "  File \"/usr/local/lib/python3.12/dist-packages/IPython/core/interactiveshell.py\", line 2975, in run_cell\n",
            "    result = self._run_cell(\n",
            "  File \"/usr/local/lib/python3.12/dist-packages/IPython/core/interactiveshell.py\", line 3030, in _run_cell\n",
            "    return runner(coro)\n",
            "  File \"/usr/local/lib/python3.12/dist-packages/IPython/core/async_helpers.py\", line 78, in _pseudo_sync_runner\n",
            "    coro.send(None)\n",
            "  File \"/usr/local/lib/python3.12/dist-packages/IPython/core/interactiveshell.py\", line 3257, in run_cell_async\n",
            "    has_raised = await self.run_ast_nodes(code_ast.body, cell_name,\n",
            "  File \"/usr/local/lib/python3.12/dist-packages/IPython/core/interactiveshell.py\", line 3473, in run_ast_nodes\n",
            "    if (await self.run_code(code, result,  async_=asy)):\n",
            "  File \"/usr/local/lib/python3.12/dist-packages/IPython/core/interactiveshell.py\", line 3553, in run_code\n",
            "    exec(code_obj, self.user_global_ns, self.user_ns)\n",
            "  File \"/tmp/ipython-input-3436117868.py\", line 7, in <cell line: 0>\n",
            "    logging.error(\"File is not availabal\", e)\n",
            "Message: 'File is not availabal'\n",
            "Arguments: (FileNotFoundError(2, 'No such file or directory'),)\n"
          ]
        }
      ]
    },
    {
      "cell_type": "code",
      "source": [
        "# 9. How can you read a file line by line and store its content in a list in Python?\n",
        "\n",
        "with open('filename.txt', 'w') as file:\n",
        "    file.write(\"Hello World!\\n\")\n",
        "    file.write(\"Welcome to Python\\n\")\n",
        "    file.write(\"First code\\n\")\n",
        "\n",
        "with open('filename.txt', 'r') as file:\n",
        "    lines = file.readlines()\n",
        "\n",
        "lines = []\n",
        "with open('filename.txt', 'r') as file:\n",
        "    for line in file:\n",
        "        lines.append(line)\n",
        "\n",
        "print(lines)"
      ],
      "metadata": {
        "colab": {
          "base_uri": "https://localhost:8080/"
        },
        "id": "vuyNXBOV1yaf",
        "outputId": "e1e2e9b3-e718-4c87-ab59-8485b4912c5e"
      },
      "execution_count": 32,
      "outputs": [
        {
          "output_type": "stream",
          "name": "stdout",
          "text": [
            "['Hello World!\\n', 'Welcome to Python\\n', 'First code\\n']\n"
          ]
        }
      ]
    },
    {
      "cell_type": "code",
      "source": [
        "# 10. How can you append data to an existing file in Python?\n",
        "\n",
        "with open('filename.txt', 'a') as file:\n",
        "    file.write(\"Appended line of text.\\n\")\n"
      ],
      "metadata": {
        "id": "C5JwAj8q20Su"
      },
      "execution_count": 33,
      "outputs": []
    },
    {
      "cell_type": "code",
      "source": [
        "# 11.  Write a Python program that uses a try-except block to handle an error when attempting to access a dictionary key that doesn't exist?\n",
        "\n",
        "person = {\n",
        "    \"name\": \"Alice\",\n",
        "    \"age\": 30\n",
        "}\n",
        "\n",
        "try:\n",
        "    print(person[\"city\"])\n",
        "except KeyError as e:\n",
        "    print(\"Error: The key 'city' does not exist in the dictionary:\", e)"
      ],
      "metadata": {
        "colab": {
          "base_uri": "https://localhost:8080/"
        },
        "id": "oClbXREU3K5R",
        "outputId": "c5f9d9fd-8e2b-4bc6-8f15-d53e1c0cab25"
      },
      "execution_count": 38,
      "outputs": [
        {
          "output_type": "stream",
          "name": "stdout",
          "text": [
            "Error: The key 'city' does not exist in the dictionary: 'city'\n"
          ]
        }
      ]
    },
    {
      "cell_type": "code",
      "source": [
        "# 12. Write a program that demonstrates using multiple except blocks to handle different types of exceptions.\n",
        "\n",
        "try:\n",
        "  print(10/0)\n",
        "except ZeroDivisionError as e:\n",
        "  print(\"A number cannot divided by 0 :\", e)\n",
        "except TypeError as e:\n",
        "  print(\"Enter a valid number:\", e)\n",
        "except Exception as e:\n",
        "  print(e)"
      ],
      "metadata": {
        "colab": {
          "base_uri": "https://localhost:8080/"
        },
        "id": "QzbC6Cxg311G",
        "outputId": "9fb58dcc-cf27-4a21-b42a-64cca9a02d59"
      },
      "execution_count": 39,
      "outputs": [
        {
          "output_type": "stream",
          "name": "stdout",
          "text": [
            "A number cannot divided by 0 : division by zero\n"
          ]
        }
      ]
    },
    {
      "cell_type": "code",
      "source": [
        "# 13. How would you check if a file exists before attempting to read it in Python?\n",
        "\n",
        "try:\n",
        "    with open('example.txt', 'r') as file:\n",
        "        content = file.read()\n",
        "    print(content)\n",
        "except FileNotFoundError:\n",
        "    print(\"The file does not exist.\")"
      ],
      "metadata": {
        "colab": {
          "base_uri": "https://localhost:8080/"
        },
        "id": "xSpADVht4a8C",
        "outputId": "cc3fb42e-6fa0-4e30-96da-d98b5a7dc1c4"
      },
      "execution_count": 40,
      "outputs": [
        {
          "output_type": "stream",
          "name": "stdout",
          "text": [
            "The file does not exist.\n"
          ]
        }
      ]
    },
    {
      "cell_type": "code",
      "source": [
        "# 14. Write a program that uses the logging module to log both informational and error messages?\n",
        "\n",
        "import logging\n",
        "\n",
        "logging.basicConfig(filename='app.log',level=logging.DEBUG)\n",
        "\n",
        "logging.info(\"This is an informational message.\")\n",
        "\n",
        "logging.error(\"This is an error message.\")"
      ],
      "metadata": {
        "colab": {
          "base_uri": "https://localhost:8080/"
        },
        "id": "sxmL7Tzi40VC",
        "outputId": "e13c35e9-6327-408c-f174-645138204739"
      },
      "execution_count": 41,
      "outputs": [
        {
          "output_type": "stream",
          "name": "stderr",
          "text": [
            "ERROR:root:This is an error message.\n"
          ]
        }
      ]
    },
    {
      "cell_type": "code",
      "source": [
        "# 15. Write a Python program that prints the content of a file and handles the case when the file is empty?\n",
        "\n",
        "try:\n",
        "    with open('example.txt', 'r') as file:\n",
        "        content = file.read()\n",
        "        if content:\n",
        "            print(content)\n",
        "        else:\n",
        "            print(\"The file is empty.\")\n",
        "except FileNotFoundError:\n",
        "    print(\"File not found.\")"
      ],
      "metadata": {
        "colab": {
          "base_uri": "https://localhost:8080/"
        },
        "id": "gJSwvB7o5FPA",
        "outputId": "5f1bed47-dab0-4692-ed21-72a7ea7791d5"
      },
      "execution_count": 42,
      "outputs": [
        {
          "output_type": "stream",
          "name": "stdout",
          "text": [
            "File not found.\n"
          ]
        }
      ]
    },
    {
      "cell_type": "code",
      "source": [
        "# 16. Demonstrate how to use memory profiling to check the memory usage of a small program.\n",
        "\n",
        "!pip install memory_profiler\n",
        "\n",
        "from memory_profiler import memory_usage\n",
        "\n",
        "def my_function():\n",
        "    a = [i for i in range(1000000)]\n",
        "    b = [i*i for i in range(1000000)]\n",
        "    return a, b\n",
        "\n",
        "mem_usage = memory_usage(my_function)\n",
        "print(f\"Memory usage (MB): {mem_usage}\")"
      ],
      "metadata": {
        "colab": {
          "base_uri": "https://localhost:8080/"
        },
        "id": "YtRbdSka5XzY",
        "outputId": "68370b53-b1e6-4a72-a091-47f34daf111a"
      },
      "execution_count": 52,
      "outputs": [
        {
          "output_type": "stream",
          "name": "stdout",
          "text": [
            "Requirement already satisfied: memory_profiler in /usr/local/lib/python3.12/dist-packages (0.61.0)\n",
            "Requirement already satisfied: psutil in /usr/local/lib/python3.12/dist-packages (from memory_profiler) (5.9.5)\n",
            "Memory usage (MB): [368.23046875, 372.9140625, 379.6171875, 386.31640625, 394.0390625, 400.7421875, 406.66796875, 409.50390625, 413.37109375, 416.98046875, 420.58984375, 424.45703125, 428.06640625, 431.41796875, 435.28515625, 439.41015625, 443.27734375, 442.79296875, 437.87109375, 432.94921875, 426.05859375, 422.12109375, 416.18359375, 411.18359375, 406.18359375, 400.18359375, 395.18359375, 392.18359375, 392.18359375, 392.18359375]\n"
          ]
        }
      ]
    },
    {
      "cell_type": "code",
      "source": [
        "# 17. Write a Python program to create and write a list of numbers to a file, one number per line?\n",
        "\n",
        "numbers = [1, 2, 3, 4, 5]\n",
        "\n",
        "with open('numbers.txt', 'w') as file:\n",
        "    for number in numbers:\n",
        "        file.write(str(number) + '\\n')"
      ],
      "metadata": {
        "id": "NjBMvxVq6ZK8"
      },
      "execution_count": 54,
      "outputs": []
    },
    {
      "cell_type": "code",
      "source": [
        "# 18. How would you implement a basic logging setup that logs to a file with rotation after 1MB?\n",
        "\n",
        "import logging\n",
        "from logging.handlers import RotatingFileHandler\n",
        "\n",
        "logger = logging.getLogger('my_logger')\n",
        "logger.setLevel(logging.DEBUG)\n",
        "\n",
        "handler = RotatingFileHandler('app.log', maxBytes=1_000_000, backupCount=3)\n",
        "handler.setLevel(logging.DEBUG)\n",
        "\n",
        "formatter = logging.Formatter('%(asctime)s - %(levelname)s - %(message)s')\n",
        "handler.setFormatter(formatter)\n",
        "\n",
        "logger.addHandler(handler)\n",
        "\n",
        "logger.info('This is an info message')\n",
        "logger.error('This is an error message')"
      ],
      "metadata": {
        "colab": {
          "base_uri": "https://localhost:8080/"
        },
        "id": "zwWtt6Sz6pnG",
        "outputId": "b79eb2ff-e110-4f92-f2d4-48527d1625d6"
      },
      "execution_count": 55,
      "outputs": [
        {
          "output_type": "stream",
          "name": "stderr",
          "text": [
            "INFO:my_logger:This is an info message\n",
            "ERROR:my_logger:This is an error message\n"
          ]
        }
      ]
    },
    {
      "cell_type": "code",
      "source": [
        "# 19. Write a program that handles both IndexError and KeyError using a try-except block.\n",
        "\n",
        "my_list = [10, 20, 30]\n",
        "my_dict = {'a': 1, 'b': 2}\n",
        "\n",
        "try:\n",
        "    print(my_list[5])\n",
        "    print(my_dict['c'])\n",
        "except IndexError as e:\n",
        "    print(\"Error: List index is out of range:\", e)\n",
        "except KeyError:\n",
        "    print(\"Error: Key not found in dictionary:\", e)"
      ],
      "metadata": {
        "colab": {
          "base_uri": "https://localhost:8080/"
        },
        "id": "nObSjrgX68yq",
        "outputId": "8dbc5bf0-448b-48cb-e824-64203b38601a"
      },
      "execution_count": 61,
      "outputs": [
        {
          "output_type": "stream",
          "name": "stdout",
          "text": [
            "Error: List index is out of range: list index out of range\n"
          ]
        }
      ]
    },
    {
      "cell_type": "code",
      "source": [
        "# 20. How would you open a file and read its contents using a context manager in Python?\n",
        "\n",
        "with open('filename.txt', 'r') as file:\n",
        "    content = file.read()\n",
        "    print(content)"
      ],
      "metadata": {
        "colab": {
          "base_uri": "https://localhost:8080/"
        },
        "id": "ySQCfB0R7aNq",
        "outputId": "9ae8b8da-911f-40ab-c44b-5a7be892fcd5"
      },
      "execution_count": 62,
      "outputs": [
        {
          "output_type": "stream",
          "name": "stdout",
          "text": [
            "Hello World!\n",
            "Welcome to Python\n",
            "First code\n",
            "Appended line of text.\n",
            "\n"
          ]
        }
      ]
    },
    {
      "cell_type": "code",
      "source": [
        "# 21. Write a Python program that reads a file and prints the number of occurrences of a specific word.\n",
        "\n",
        "try:\n",
        "    with open('filename.txt', 'r') as file:\n",
        "        content = file.read()\n",
        "        count = content.count('Python')\n",
        "    print(f\"The word '{word_to_count}' appears {count} times in the file.\")\n",
        "\n",
        "except FileNotFoundError:\n",
        "    print(f\"The file '{filename}' does not exist.\")"
      ],
      "metadata": {
        "colab": {
          "base_uri": "https://localhost:8080/"
        },
        "id": "Xzae35Gq7mit",
        "outputId": "5b625ec3-e2b7-4a7b-9462-17c15c0114d0"
      },
      "execution_count": 64,
      "outputs": [
        {
          "output_type": "stream",
          "name": "stdout",
          "text": [
            "The word 'Python' appears 1 times in the file.\n"
          ]
        }
      ]
    },
    {
      "cell_type": "code",
      "source": [
        "# 22. How can you check if a file is empty before attempting to read its contents?\n",
        "\n",
        "import os\n",
        "\n",
        "filename = 'filename.txt'\n",
        "\n",
        "try:\n",
        "    if os.path.getsize(filename) > 0:\n",
        "        with open(filename, 'r') as file:\n",
        "            content = file.read()\n",
        "            print(content)\n",
        "    else:\n",
        "        print(\"The file is empty.\")\n",
        "except FileNotFoundError:\n",
        "    print(f\"The file '{filename}' does not exist.\")\n",
        "except Exception as e:\n",
        "    print(f\"An error occurred: {e}\")"
      ],
      "metadata": {
        "colab": {
          "base_uri": "https://localhost:8080/"
        },
        "id": "RkObDW8s8H6w",
        "outputId": "28498e7b-10c0-44c4-acf0-10fbec6abdca"
      },
      "execution_count": 67,
      "outputs": [
        {
          "output_type": "stream",
          "name": "stdout",
          "text": [
            "Hello World!\n",
            "Welcome to Python\n",
            "First code\n",
            "Appended line of text.\n",
            "\n"
          ]
        }
      ]
    },
    {
      "cell_type": "code",
      "source": [
        "# 23. Write a Python program that writes to a log file when an error occurs during file handling.\n",
        "\n",
        "import logging\n",
        "\n",
        "logging.basicConfig(filename='file_errors.log',level=logging.ERROR)\n",
        "\n",
        "filename = 'somefile.txt'\n",
        "\n",
        "try:\n",
        "    with open(filename, 'r') as file:\n",
        "        content = file.read()\n",
        "        print(content)\n",
        "except FileNotFoundError as e:\n",
        "    logging.error(f\"FileNotFoundError: {e}\")\n",
        "    print(\"Error: File not found. Check 'file_errors.log' for details.\")\n",
        "except IOError as e:\n",
        "    logging.error(f\"IOError: {e}\")\n",
        "    print(\"Error: An I/O error occurred. Check 'file_errors.log' for details.\")"
      ],
      "metadata": {
        "colab": {
          "base_uri": "https://localhost:8080/"
        },
        "id": "xi89LCb78X71",
        "outputId": "93edf8be-8bcb-4bb4-94b7-5e65aea0a9b5"
      },
      "execution_count": 68,
      "outputs": [
        {
          "output_type": "stream",
          "name": "stderr",
          "text": [
            "ERROR:root:FileNotFoundError: [Errno 2] No such file or directory: 'somefile.txt'\n"
          ]
        },
        {
          "output_type": "stream",
          "name": "stdout",
          "text": [
            "Error: File not found. Check 'file_errors.log' for details.\n"
          ]
        }
      ]
    }
  ]
}